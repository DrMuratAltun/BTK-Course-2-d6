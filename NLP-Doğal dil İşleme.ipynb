{
 "cells": [
  {
   "cell_type": "markdown",
   "id": "163b0f1b",
   "metadata": {},
   "source": [
    "## NLP-Natural Language Processing (Doğal Dil İşleme)"
   ]
  },
  {
   "cell_type": "markdown",
   "id": "5b45b4cc",
   "metadata": {},
   "source": [
    "### Kütüphaneleri yükle"
   ]
  },
  {
   "cell_type": "code",
   "execution_count": 1,
   "id": "46b59e8d",
   "metadata": {
    "collapsed": true
   },
   "outputs": [
    {
     "name": "stdout",
     "output_type": "stream",
     "text": [
      "Defaulting to user installation because normal site-packages is not writeable\n",
      "Requirement already satisfied: nltk in c:\\users\\emura\\appdata\\roaming\\python\\python311\\site-packages (3.8.1)\n",
      "Requirement already satisfied: click in c:\\programdata\\anaconda3\\lib\\site-packages (from nltk) (8.0.4)\n",
      "Requirement already satisfied: joblib in c:\\users\\emura\\appdata\\roaming\\python\\python311\\site-packages (from nltk) (1.4.0)\n",
      "Requirement already satisfied: regex>=2021.8.3 in c:\\programdata\\anaconda3\\lib\\site-packages (from nltk) (2022.7.9)\n",
      "Requirement already satisfied: tqdm in c:\\users\\emura\\appdata\\roaming\\python\\python311\\site-packages (from nltk) (4.66.2)\n",
      "Requirement already satisfied: colorama in c:\\programdata\\anaconda3\\lib\\site-packages (from click->nltk) (0.4.6)\n"
     ]
    }
   ],
   "source": [
    "!pip install nltk"
   ]
  },
  {
   "cell_type": "code",
   "execution_count": 3,
   "id": "6255cbff",
   "metadata": {},
   "outputs": [],
   "source": [
    "import nltk"
   ]
  },
  {
   "cell_type": "code",
   "execution_count": 23,
   "id": "811bfd9c",
   "metadata": {},
   "outputs": [
    {
     "name": "stderr",
     "output_type": "stream",
     "text": [
      "[nltk_data] Downloading package punkt to\n",
      "[nltk_data]     C:\\Users\\emura\\AppData\\Roaming\\nltk_data...\n",
      "[nltk_data]   Package punkt is already up-to-date!\n"
     ]
    },
    {
     "data": {
      "text/plain": [
       "True"
      ]
     },
     "execution_count": 23,
     "metadata": {},
     "output_type": "execute_result"
    }
   ],
   "source": [
    "nltk.download('punkt')#bu paketi indirmnek gerekiyor"
   ]
  },
  {
   "cell_type": "code",
   "execution_count": 2,
   "id": "d11543db",
   "metadata": {},
   "outputs": [],
   "source": [
    "import warnings\n",
    "warnings.filterwarnings(\"ignore\")"
   ]
  },
  {
   "cell_type": "markdown",
   "id": "2fd4d9b1",
   "metadata": {},
   "source": [
    "### STR metotları"
   ]
  },
  {
   "cell_type": "code",
   "execution_count": 5,
   "id": "4ecdb7d1",
   "metadata": {},
   "outputs": [],
   "source": [
    "text='BTK Akademi Antalya ileri düzey makine öğrenmesi atölyesi'"
   ]
  },
  {
   "cell_type": "code",
   "execution_count": 6,
   "id": "9ec97c62",
   "metadata": {},
   "outputs": [
    {
     "data": {
      "text/plain": [
       "'Btk Akademi Antalya Ileri Düzey Makine Öğrenmesi Atölyesi'"
      ]
     },
     "execution_count": 6,
     "metadata": {},
     "output_type": "execute_result"
    }
   ],
   "source": [
    "text.title() # tüm sözcüklerin baş harfini büyük harfe çevirir"
   ]
  },
  {
   "cell_type": "code",
   "execution_count": 7,
   "id": "4addbf8b",
   "metadata": {},
   "outputs": [
    {
     "data": {
      "text/plain": [
       "'Btk akademi antalya ileri düzey makine öğrenmesi atölyesi'"
      ]
     },
     "execution_count": 7,
     "metadata": {},
     "output_type": "execute_result"
    }
   ],
   "source": [
    "text.capitalize() # ilk harfi büyük harfe çevirir geri kalanı küçük"
   ]
  },
  {
   "cell_type": "code",
   "execution_count": 8,
   "id": "b3ec8e83",
   "metadata": {},
   "outputs": [
    {
     "data": {
      "text/plain": [
       "'BTK AKADEMI ANTALYA ILERI DÜZEY MAKINE ÖĞRENMESI ATÖLYESI'"
      ]
     },
     "execution_count": 8,
     "metadata": {},
     "output_type": "execute_result"
    }
   ],
   "source": [
    "text.upper() # tüm harfleri büyük harfe çevirir"
   ]
  },
  {
   "cell_type": "code",
   "execution_count": 9,
   "id": "808511f0",
   "metadata": {},
   "outputs": [
    {
     "data": {
      "text/plain": [
       "'BTK Akademi Antalya ileri düzey makine öğrenmesi atölyesi'"
      ]
     },
     "execution_count": 9,
     "metadata": {},
     "output_type": "execute_result"
    }
   ],
   "source": [
    "text"
   ]
  },
  {
   "cell_type": "code",
   "execution_count": 12,
   "id": "d1225ec7",
   "metadata": {},
   "outputs": [
    {
     "data": {
      "text/plain": [
       "'BTK AKADEMI ANTALYA ILERI DÜZEY MAKINE ÖĞRENMESI ATÖLYESI'"
      ]
     },
     "execution_count": 12,
     "metadata": {},
     "output_type": "execute_result"
    }
   ],
   "source": [
    "text=text.upper() #değişiklikleri aynı değişkene atar\n",
    "text"
   ]
  },
  {
   "cell_type": "code",
   "execution_count": 11,
   "id": "3ae7acb5",
   "metadata": {},
   "outputs": [
    {
     "data": {
      "text/plain": [
       "'btk akademi antalya ileri düzey makine öğrenmesi atölyesi'"
      ]
     },
     "execution_count": 11,
     "metadata": {},
     "output_type": "execute_result"
    }
   ],
   "source": [
    "text.lower() # tüm harfleri kucuk harfe çevirir"
   ]
  },
  {
   "cell_type": "code",
   "execution_count": 14,
   "id": "d6a97e08",
   "metadata": {},
   "outputs": [
    {
     "data": {
      "text/plain": [
       "['BTK',\n",
       " 'AKADEMI',\n",
       " 'ANTALYA',\n",
       " 'ILERI',\n",
       " 'DÜZEY',\n",
       " 'MAKINE',\n",
       " 'ÖĞRENMESI',\n",
       " 'ATÖLYESI']"
      ]
     },
     "execution_count": 14,
     "metadata": {},
     "output_type": "execute_result"
    }
   ],
   "source": [
    "sozcuk_liste=text.split() # varsayılan olarak bosluklardan ayrılır bir liste döndürür\n",
    "sozcuk_liste"
   ]
  },
  {
   "cell_type": "code",
   "execution_count": 15,
   "id": "4ba96e2e",
   "metadata": {},
   "outputs": [
    {
     "name": "stdout",
     "output_type": "stream",
     "text": [
      "BTK AKADEMI ANTALYA ILERI DÜZEY MAKINE ÖĞRENMESI ATÖLYESI\n"
     ]
    }
   ],
   "source": [
    "print(*sozcuk_liste)"
   ]
  },
  {
   "cell_type": "code",
   "execution_count": 18,
   "id": "b9b37b0f",
   "metadata": {},
   "outputs": [],
   "source": [
    "from nltk.tokenize import word_tokenize,sent_tokenize"
   ]
  },
  {
   "cell_type": "code",
   "execution_count": 20,
   "id": "0c62e5a3",
   "metadata": {},
   "outputs": [],
   "source": [
    "text2='Merhaba. BTK Akademi Kursuna hoş geldiniz. Ben Murat ALtun. İyi çalışmalar.'"
   ]
  },
  {
   "cell_type": "code",
   "execution_count": 21,
   "id": "3e528e0a",
   "metadata": {
    "collapsed": true
   },
   "outputs": [
    {
     "data": {
      "text/plain": [
       "['Merhaba.',\n",
       " 'BTK Akademi Kursuna hoş geldiniz.',\n",
       " 'Ben Murat ALtun.',\n",
       " 'İyi çalışmalar.']"
      ]
     },
     "execution_count": 21,
     "metadata": {},
     "output_type": "execute_result"
    }
   ],
   "source": [
    "sent_tokenize(text2) # cümel bazında ayırma"
   ]
  },
  {
   "cell_type": "code",
   "execution_count": 22,
   "id": "cf4e891b",
   "metadata": {
    "collapsed": true
   },
   "outputs": [
    {
     "data": {
      "text/plain": [
       "['Merhaba',\n",
       " '.',\n",
       " 'BTK',\n",
       " 'Akademi',\n",
       " 'Kursuna',\n",
       " 'hoş',\n",
       " 'geldiniz',\n",
       " '.',\n",
       " 'Ben',\n",
       " 'Murat',\n",
       " 'ALtun',\n",
       " '.',\n",
       " 'İyi',\n",
       " 'çalışmalar',\n",
       " '.']"
      ]
     },
     "execution_count": 22,
     "metadata": {},
     "output_type": "execute_result"
    }
   ],
   "source": [
    "word_tokenize(text2) # kelime bazında ayırma"
   ]
  },
  {
   "cell_type": "code",
   "execution_count": 24,
   "id": "73e227f2",
   "metadata": {},
   "outputs": [],
   "source": [
    "from nltk.tokenize import WordPunctTokenizer, BlanklineTokenizer"
   ]
  },
  {
   "cell_type": "code",
   "execution_count": 26,
   "id": "978cd742",
   "metadata": {},
   "outputs": [],
   "source": [
    "sent_text='''\n",
    "Merhaba hocam \n",
    "Nasılsınız?\n",
    "Sınavdan 90 aldım. 100 bekliyordum.\n",
    "Sınav kağıdıma tekrar bakarsanız sevinirim.'''"
   ]
  },
  {
   "cell_type": "code",
   "execution_count": 27,
   "id": "518f2d78",
   "metadata": {
    "collapsed": true
   },
   "outputs": [
    {
     "data": {
      "text/plain": [
       "['Merhaba',\n",
       " 'hocam',\n",
       " 'Nasılsınız',\n",
       " '?',\n",
       " 'Sınavdan',\n",
       " '90',\n",
       " 'aldım',\n",
       " '.',\n",
       " '100',\n",
       " 'bekliyordum',\n",
       " '.',\n",
       " 'Sınav',\n",
       " 'kağıdıma',\n",
       " 'tekrar',\n",
       " 'bakarsanız',\n",
       " 'sevinirim',\n",
       " '.']"
      ]
     },
     "execution_count": 27,
     "metadata": {},
     "output_type": "execute_result"
    }
   ],
   "source": [
    "WordPunctTokenizer().tokenize(sent_text)"
   ]
  },
  {
   "cell_type": "code",
   "execution_count": 28,
   "id": "68a8a781",
   "metadata": {},
   "outputs": [
    {
     "data": {
      "text/plain": [
       "['\\nMerhaba hocam \\nNasılsınız?\\nSınavdan 90 aldım. 100 bekliyordum.\\nSınav kağıdıma tekrar bakarsanız sevinirim.']"
      ]
     },
     "execution_count": 28,
     "metadata": {},
     "output_type": "execute_result"
    }
   ],
   "source": [
    "BlanklineTokenizer().tokenize(sent_text)"
   ]
  },
  {
   "cell_type": "code",
   "execution_count": 29,
   "id": "71a7cf09",
   "metadata": {},
   "outputs": [
    {
     "name": "stdout",
     "output_type": "stream",
     "text": [
      "\n",
      "Merhaba hocam \n",
      "Nasılsınız?\n",
      "Sınavdan 90 aldım. 100 bekliyordum.\n",
      "Sınav kağıdıma tekrar bakarsanız sevinirim.\n"
     ]
    }
   ],
   "source": [
    "print('\\nMerhaba hocam \\nNasılsınız?\\nSınavdan 90 aldım. 100 bekliyordum.\\nSınav kağıdıma tekrar bakarsanız sevinirim.')"
   ]
  },
  {
   "cell_type": "code",
   "execution_count": 30,
   "id": "68beefdd",
   "metadata": {},
   "outputs": [],
   "source": [
    "from nltk.tokenize import RegexpTokenizer"
   ]
  },
  {
   "cell_type": "code",
   "execution_count": 31,
   "id": "889a315f",
   "metadata": {},
   "outputs": [
    {
     "data": {
      "text/plain": [
       "['\\n', ' ', ' \\n', '\\n', ' ', ' ', ' ', ' ', '\\n', ' ', ' ', ' ', ' ']"
      ]
     },
     "execution_count": 31,
     "metadata": {},
     "output_type": "execute_result"
    }
   ],
   "source": [
    "RegexpTokenizer('\\s+').tokenize(sent_text)"
   ]
  },
  {
   "cell_type": "markdown",
   "id": "ff914c6f",
   "metadata": {},
   "source": [
    "RegexpTokenizer() fonksiyonu, bir tokenizasyon (parçalama) işlemi için kullanılacak bir nesne oluşturur.\n",
    "\n",
    "İlk parametre olan '\\s+' bir düzenli ifadedir (regular expression). Bu ifade, bir veya daha fazla boşluk karakterini (boşluk, tab, satır başı vb.) eşleştirir.\n",
    "\n",
    "gaps=True parametresi, tokenizasyon işleminin boşluk karakterleri arasındaki metinleri parçalaması gerektiğini belirtir. Yani, boşluk karakterleri değil, boşluk karakterleri arasındaki metinler token olarak alınır.\n",
    "\n",
    "tokenize() metodu, sent_text değişkenindeki metni bu kurallara göre parçalar ve elde edilen token'ları bir liste halinde döndürür."
   ]
  },
  {
   "cell_type": "code",
   "execution_count": 32,
   "id": "11004c92",
   "metadata": {
    "collapsed": true
   },
   "outputs": [
    {
     "data": {
      "text/plain": [
       "['Merhaba',\n",
       " 'hocam',\n",
       " 'Nasılsınız?',\n",
       " 'Sınavdan',\n",
       " '90',\n",
       " 'aldım.',\n",
       " '100',\n",
       " 'bekliyordum.',\n",
       " 'Sınav',\n",
       " 'kağıdıma',\n",
       " 'tekrar',\n",
       " 'bakarsanız',\n",
       " 'sevinirim.']"
      ]
     },
     "execution_count": 32,
     "metadata": {},
     "output_type": "execute_result"
    }
   ],
   "source": [
    "RegexpTokenizer('\\s+',gaps=True).tokenize(sent_text)"
   ]
  },
  {
   "cell_type": "code",
   "execution_count": 33,
   "id": "354e8902",
   "metadata": {},
   "outputs": [],
   "source": [
    "sent='She secures 90% in class Xz In. She is a Meritorius student.'"
   ]
  },
  {
   "cell_type": "code",
   "execution_count": 36,
   "id": "7edc2461",
   "metadata": {},
   "outputs": [
    {
     "data": {
      "text/plain": [
       "['She', 'Xz', 'In', 'She', 'Meritorius']"
      ]
     },
     "execution_count": 36,
     "metadata": {},
     "output_type": "execute_result"
    }
   ],
   "source": [
    "cap=RegexpTokenizer('[A-Z]\\w+')\n",
    "#[A-Z] büyük harfleri belirtiyoruz \n",
    "#\\w+ aardından gelen 1 veya daha fazla alfanumeric karakter\n",
    "cap.tokenize(sent)"
   ]
  },
  {
   "cell_type": "markdown",
   "id": "baced2fd",
   "metadata": {},
   "source": [
    "### Ek ve kök işlemleri"
   ]
  },
  {
   "cell_type": "code",
   "execution_count": 39,
   "id": "41542841",
   "metadata": {},
   "outputs": [
    {
     "data": {
      "text/plain": [
       "'run'"
      ]
     },
     "execution_count": 39,
     "metadata": {},
     "output_type": "execute_result"
    }
   ],
   "source": [
    "from nltk.stem import PorterStemmer\n",
    "pr=PorterStemmer() # kelimenin kökü\n",
    "pr.stem('Running')"
   ]
  },
  {
   "cell_type": "code",
   "execution_count": 40,
   "id": "544411be",
   "metadata": {},
   "outputs": [
    {
     "data": {
      "text/plain": [
       "'talk'"
      ]
     },
     "execution_count": 40,
     "metadata": {},
     "output_type": "execute_result"
    }
   ],
   "source": [
    "pr.stem('talking')"
   ]
  },
  {
   "cell_type": "code",
   "execution_count": 41,
   "id": "efa198c8",
   "metadata": {},
   "outputs": [],
   "source": [
    "words=['houses', 'trains','pens','cars', 'eaten','sick', 'nice', 'bought', 'selling', 'sized',\n",
    "      'speech', 'rolling', 'marching','identification','universal','beatiful','references' ]"
   ]
  },
  {
   "cell_type": "code",
   "execution_count": 45,
   "id": "fb5c7dcd",
   "metadata": {},
   "outputs": [
    {
     "name": "stdout",
     "output_type": "stream",
     "text": [
      "['hous', 'train', 'pen', 'car', 'eaten', 'sick', 'nice', 'bought', 'sell', 'size', 'speech', 'roll', 'march', 'identif', 'univers', 'beati', 'refer']\n"
     ]
    }
   ],
   "source": [
    "kok=[pr.stem(word) for word in words] #list comprehension ile kısaltılmış hali\n",
    "print(kok)"
   ]
  },
  {
   "cell_type": "code",
   "execution_count": 44,
   "id": "100bd53d",
   "metadata": {},
   "outputs": [
    {
     "name": "stdout",
     "output_type": "stream",
     "text": [
      "[0, 1, 2, 3, 4, 5, 6, 7, 8, 9]\n",
      "[0, 1, 4, 9, 16, 25, 36, 49, 64, 81]\n"
     ]
    }
   ],
   "source": [
    "# List Comprehension\n",
    "sayilar=list(range(10))\n",
    "print(sayilar)\n",
    "sayilar2=[sayi**2 for sayi in sayilar]\n",
    "print(sayilar2)"
   ]
  },
  {
   "cell_type": "markdown",
   "id": "8ccdb0d9",
   "metadata": {},
   "source": [
    "Stemming'de, kelimelerin çekim ve türetme eklerini mekaniksel olarak çıkartılırken, lemmatizasyon daha akıllıca ve dil bilgisi temelli bir yaklaşım kullanır."
   ]
  },
  {
   "cell_type": "code",
   "execution_count": 46,
   "id": "4dc2f47b",
   "metadata": {},
   "outputs": [],
   "source": [
    "from nltk.stem import WordNetLemmatizer\n",
    "lem=WordNetLemmatizer()"
   ]
  },
  {
   "cell_type": "code",
   "execution_count": 47,
   "id": "906edeb6",
   "metadata": {},
   "outputs": [],
   "source": [
    "#nltk.download('wordnet') #bu paketi indirmek gerekiyor"
   ]
  },
  {
   "cell_type": "code",
   "execution_count": 49,
   "id": "d059048c",
   "metadata": {},
   "outputs": [
    {
     "data": {
      "text/plain": [
       "'sing'"
      ]
     },
     "execution_count": 49,
     "metadata": {},
     "output_type": "execute_result"
    }
   ],
   "source": [
    "lem.lemmatize('singing',pos='v')"
   ]
  },
  {
   "cell_type": "code",
   "execution_count": 50,
   "id": "f6d119cf",
   "metadata": {},
   "outputs": [
    {
     "data": {
      "text/plain": [
       "'singing'"
      ]
     },
     "execution_count": 50,
     "metadata": {},
     "output_type": "execute_result"
    }
   ],
   "source": [
    "lem.lemmatize('singing',pos='n')"
   ]
  },
  {
   "cell_type": "code",
   "execution_count": 52,
   "id": "c27baf63",
   "metadata": {},
   "outputs": [
    {
     "data": {
      "text/plain": [
       "'take'"
      ]
     },
     "execution_count": 52,
     "metadata": {},
     "output_type": "execute_result"
    }
   ],
   "source": [
    "lem.lemmatize('took',pos='v')"
   ]
  },
  {
   "cell_type": "code",
   "execution_count": 53,
   "id": "72846d3c",
   "metadata": {
    "collapsed": true
   },
   "outputs": [
    {
     "name": "stdout",
     "output_type": "stream",
     "text": [
      "Defaulting to user installation because normal site-packages is not writeableNote: you may need to restart the kernel to use updated packages.\n",
      "\n",
      "Requirement already satisfied: autocorrect in c:\\users\\emura\\appdata\\roaming\\python\\python311\\site-packages (2.6.1)\n"
     ]
    }
   ],
   "source": [
    "pip install autocorrect # otomaitk düzeltme "
   ]
  },
  {
   "cell_type": "code",
   "execution_count": 54,
   "id": "c1a76afc",
   "metadata": {},
   "outputs": [],
   "source": [
    "from autocorrect import Speller"
   ]
  },
  {
   "cell_type": "code",
   "execution_count": 56,
   "id": "65db53bb",
   "metadata": {},
   "outputs": [],
   "source": [
    "spell=Speller()"
   ]
  },
  {
   "cell_type": "code",
   "execution_count": 58,
   "id": "314dd50d",
   "metadata": {},
   "outputs": [
    {
     "data": {
      "text/plain": [
       "'my spelling is good'"
      ]
     },
     "execution_count": 58,
     "metadata": {},
     "output_type": "execute_result"
    }
   ],
   "source": [
    "spell('my spelling is goad')"
   ]
  },
  {
   "cell_type": "code",
   "execution_count": 59,
   "id": "3c495d3b",
   "metadata": {
    "collapsed": true
   },
   "outputs": [
    {
     "name": "stdout",
     "output_type": "stream",
     "text": [
      "Defaulting to user installation because normal site-packages is not writeableNote: you may need to restart the kernel to use updated packages.\n",
      "\n",
      "Requirement already satisfied: textblob in c:\\users\\emura\\appdata\\roaming\\python\\python311\\site-packages (0.18.0.post0)\n",
      "Requirement already satisfied: nltk>=3.8 in c:\\users\\emura\\appdata\\roaming\\python\\python311\\site-packages (from textblob) (3.8.1)\n",
      "Requirement already satisfied: click in c:\\programdata\\anaconda3\\lib\\site-packages (from nltk>=3.8->textblob) (8.0.4)\n",
      "Requirement already satisfied: joblib in c:\\users\\emura\\appdata\\roaming\\python\\python311\\site-packages (from nltk>=3.8->textblob) (1.4.0)\n",
      "Requirement already satisfied: regex>=2021.8.3 in c:\\programdata\\anaconda3\\lib\\site-packages (from nltk>=3.8->textblob) (2022.7.9)\n",
      "Requirement already satisfied: tqdm in c:\\users\\emura\\appdata\\roaming\\python\\python311\\site-packages (from nltk>=3.8->textblob) (4.66.2)\n",
      "Requirement already satisfied: colorama in c:\\programdata\\anaconda3\\lib\\site-packages (from click->nltk>=3.8->textblob) (0.4.6)\n"
     ]
    }
   ],
   "source": [
    "pip install textblob"
   ]
  },
  {
   "cell_type": "code",
   "execution_count": 60,
   "id": "565f14ef",
   "metadata": {},
   "outputs": [],
   "source": [
    "from textblob import TextBlob"
   ]
  },
  {
   "cell_type": "code",
   "execution_count": 61,
   "id": "0bf4cf53",
   "metadata": {},
   "outputs": [
    {
     "data": {
      "text/plain": [
       "TextBlob(\"I have a good book\")"
      ]
     },
     "execution_count": 61,
     "metadata": {},
     "output_type": "execute_result"
    }
   ],
   "source": [
    "b=TextBlob('I fave a goad book') # textblob un correct metodu kelimeyi düzeltiyor\n",
    "b.correct()"
   ]
  },
  {
   "cell_type": "code",
   "execution_count": 62,
   "id": "a24ac09d",
   "metadata": {
    "collapsed": true
   },
   "outputs": [
    {
     "name": "stdout",
     "output_type": "stream",
     "text": [
      "Help on class TextBlob in module textblob.blob:\n",
      "\n",
      "class TextBlob(BaseBlob)\n",
      " |  TextBlob(text, tokenizer=None, pos_tagger=None, np_extractor=None, analyzer=None, parser=None, classifier=None, clean_html=False)\n",
      " |  \n",
      " |  A general text block, meant for larger bodies of text (esp. those\n",
      " |  containing sentences). Inherits from :class:`BaseBlob <BaseBlob>`.\n",
      " |  \n",
      " |  :param str text: A string.\n",
      " |  :param tokenizer: (optional) A tokenizer instance. If ``None``, defaults to\n",
      " |      :class:`WordTokenizer() <textblob.tokenizers.WordTokenizer>`.\n",
      " |  :param np_extractor: (optional) An NPExtractor instance. If ``None``,\n",
      " |      defaults to :class:`FastNPExtractor() <textblob.en.np_extractors.FastNPExtractor>`.\n",
      " |  :param pos_tagger: (optional) A Tagger instance. If ``None``, defaults to\n",
      " |      :class:`NLTKTagger <textblob.en.taggers.NLTKTagger>`.\n",
      " |  :param analyzer: (optional) A sentiment analyzer. If ``None``, defaults to\n",
      " |      :class:`PatternAnalyzer <textblob.en.sentiments.PatternAnalyzer>`.\n",
      " |  :param classifier: (optional) A classifier.\n",
      " |  \n",
      " |  Method resolution order:\n",
      " |      TextBlob\n",
      " |      BaseBlob\n",
      " |      textblob.mixins.StringlikeMixin\n",
      " |      textblob.mixins.BlobComparableMixin\n",
      " |      textblob.mixins.ComparableMixin\n",
      " |      builtins.object\n",
      " |  \n",
      " |  Methods defined here:\n",
      " |  \n",
      " |  sentences = <textblob.decorators.cached_property object>\n",
      " |      Return list of :class:`Sentence <Sentence>` objects.\n",
      " |  \n",
      " |  to_json(self, *args, **kwargs)\n",
      " |      Return a json representation (str) of this blob.\n",
      " |      Takes the same arguments as json.dumps.\n",
      " |      \n",
      " |      .. versionadded:: 0.5.1\n",
      " |  \n",
      " |  words = <textblob.decorators.cached_property object>\n",
      " |      Return a list of word tokens. This excludes punctuation characters.\n",
      " |      If you want to include punctuation characters, access the ``tokens``\n",
      " |      property.\n",
      " |      \n",
      " |      :returns: A :class:`WordList <WordList>` of word tokens.\n",
      " |  \n",
      " |  ----------------------------------------------------------------------\n",
      " |  Readonly properties defined here:\n",
      " |  \n",
      " |  json\n",
      " |      The json representation of this blob.\n",
      " |      \n",
      " |      .. versionchanged:: 0.5.1\n",
      " |          Made ``json`` a property instead of a method to restore backwards\n",
      " |          compatibility that was broken after version 0.4.0.\n",
      " |  \n",
      " |  raw_sentences\n",
      " |      List of strings, the raw sentences in the blob.\n",
      " |  \n",
      " |  serialized\n",
      " |      Returns a list of each sentence's dict representation.\n",
      " |  \n",
      " |  ----------------------------------------------------------------------\n",
      " |  Methods inherited from BaseBlob:\n",
      " |  \n",
      " |  __add__(self, other)\n",
      " |      Concatenates two text objects the same way Python strings are\n",
      " |      concatenated.\n",
      " |      \n",
      " |      Arguments:\n",
      " |      - `other`: a string or a text object\n",
      " |  \n",
      " |  __hash__(self)\n",
      " |      Return hash(self).\n",
      " |  \n",
      " |  __init__(self, text, tokenizer=None, pos_tagger=None, np_extractor=None, analyzer=None, parser=None, classifier=None, clean_html=False)\n",
      " |      Initialize self.  See help(type(self)) for accurate signature.\n",
      " |  \n",
      " |  classify(self)\n",
      " |      Classify the blob using the blob's ``classifier``.\n",
      " |  \n",
      " |  correct(self)\n",
      " |      Attempt to correct the spelling of a blob.\n",
      " |      \n",
      " |      .. versionadded:: 0.6.0\n",
      " |      \n",
      " |      :rtype: :class:`BaseBlob <BaseBlob>`\n",
      " |  \n",
      " |  ngrams(self, n=3)\n",
      " |      Return a list of n-grams (tuples of n successive words) for this\n",
      " |      blob.\n",
      " |      \n",
      " |      :rtype: List of :class:`WordLists <WordList>`\n",
      " |  \n",
      " |  noun_phrases = <textblob.decorators.cached_property object>\n",
      " |      Returns a list of noun phrases for this blob.\n",
      " |  \n",
      " |  np_counts = <textblob.decorators.cached_property object>\n",
      " |      Dictionary of noun phrase frequencies in this text.\n",
      " |  \n",
      " |  parse(self, parser=None)\n",
      " |      Parse the text.\n",
      " |      \n",
      " |      :param parser: (optional) A parser instance. If ``None``, defaults to\n",
      " |          this blob's default parser.\n",
      " |      \n",
      " |      .. versionadded:: 0.6.0\n",
      " |  \n",
      " |  polarity = <textblob.decorators.cached_property object>\n",
      " |      Return the polarity score as a float within the range [-1.0, 1.0]\n",
      " |      \n",
      " |      :rtype: float\n",
      " |  \n",
      " |  pos_tags = <textblob.decorators.cached_property object>\n",
      " |      Returns an list of tuples of the form (word, POS tag).\n",
      " |      \n",
      " |      Example:\n",
      " |      ::\n",
      " |      \n",
      " |          [('At', 'IN'), ('eight', 'CD'), (\"o'clock\", 'JJ'), ('on', 'IN'),\n",
      " |                  ('Thursday', 'NNP'), ('morning', 'NN')]\n",
      " |      \n",
      " |      :rtype: list of tuples\n",
      " |  \n",
      " |  sentiment = <textblob.decorators.cached_property object>\n",
      " |      Return a tuple of form (polarity, subjectivity ) where polarity\n",
      " |      is a float within the range [-1.0, 1.0] and subjectivity is a float\n",
      " |      within the range [0.0, 1.0] where 0.0 is very objective and 1.0 is\n",
      " |      very subjective.\n",
      " |      \n",
      " |      :rtype: namedtuple of the form ``Sentiment(polarity, subjectivity)``\n",
      " |  \n",
      " |  sentiment_assessments = <textblob.decorators.cached_property object>\n",
      " |      Return a tuple of form (polarity, subjectivity, assessments ) where\n",
      " |      polarity is a float within the range [-1.0, 1.0], subjectivity is a\n",
      " |      float within the range [0.0, 1.0] where 0.0 is very objective and 1.0\n",
      " |      is very subjective, and assessments is a list of polarity and\n",
      " |      subjectivity scores for the assessed tokens.\n",
      " |      \n",
      " |      :rtype: namedtuple of the form ``Sentiment(polarity, subjectivity,\n",
      " |      assessments)``\n",
      " |  \n",
      " |  split(self, sep=None, maxsplit=9223372036854775807)\n",
      " |      Behaves like the built-in str.split() except returns a\n",
      " |      WordList.\n",
      " |      \n",
      " |      :rtype: :class:`WordList <WordList>`\n",
      " |  \n",
      " |  subjectivity = <textblob.decorators.cached_property object>\n",
      " |      Return the subjectivity score as a float within the range [0.0, 1.0]\n",
      " |      where 0.0 is very objective and 1.0 is very subjective.\n",
      " |      \n",
      " |      :rtype: float\n",
      " |  \n",
      " |  tags = <textblob.decorators.cached_property object>\n",
      " |      Returns an list of tuples of the form (word, POS tag).\n",
      " |      \n",
      " |      Example:\n",
      " |      ::\n",
      " |      \n",
      " |          [('At', 'IN'), ('eight', 'CD'), (\"o'clock\", 'JJ'), ('on', 'IN'),\n",
      " |                  ('Thursday', 'NNP'), ('morning', 'NN')]\n",
      " |      \n",
      " |      :rtype: list of tuples\n",
      " |  \n",
      " |  tokenize(self, tokenizer=None)\n",
      " |      Return a list of tokens, using ``tokenizer``.\n",
      " |      \n",
      " |      :param tokenizer: (optional) A tokenizer object. If None, defaults to\n",
      " |          this blob's default tokenizer.\n",
      " |  \n",
      " |  tokens = <textblob.decorators.cached_property object>\n",
      " |      Return a list of tokens, using this blob's tokenizer object\n",
      " |      (defaults to :class:`WordTokenizer <textblob.tokenizers.WordTokenizer>`).\n",
      " |  \n",
      " |  word_counts = <textblob.decorators.cached_property object>\n",
      " |      Dictionary of word frequencies in this text.\n",
      " |  \n",
      " |  ----------------------------------------------------------------------\n",
      " |  Data and other attributes inherited from BaseBlob:\n",
      " |  \n",
      " |  analyzer = <textblob.en.sentiments.PatternAnalyzer object>\n",
      " |  \n",
      " |  np_extractor = <textblob.en.np_extractors.FastNPExtractor object>\n",
      " |  \n",
      " |  parser = <textblob.en.parsers.PatternParser object>\n",
      " |  \n",
      " |  pos_tagger = <textblob.en.taggers.NLTKTagger object>\n",
      " |  \n",
      " |  tokenizer = <textblob.tokenizers.WordTokenizer object>\n",
      " |  \n",
      " |  ----------------------------------------------------------------------\n",
      " |  Methods inherited from textblob.mixins.StringlikeMixin:\n",
      " |  \n",
      " |  __contains__(self, sub)\n",
      " |      Implements the `in` keyword like a Python string.\n",
      " |  \n",
      " |  __getitem__(self, index)\n",
      " |      Returns a  substring. If index is an integer, returns a Python\n",
      " |      string of a single character. If a range is given, e.g. `blob[3:5]`,\n",
      " |      a new instance of the class is returned.\n",
      " |  \n",
      " |  __iter__(self)\n",
      " |      Makes the object iterable as if it were a string,\n",
      " |      iterating through the raw string's characters.\n",
      " |  \n",
      " |  __len__(self)\n",
      " |      Returns the length of the raw text.\n",
      " |  \n",
      " |  __repr__(self)\n",
      " |      Returns a string representation for debugging.\n",
      " |  \n",
      " |  __str__(self)\n",
      " |      Returns a string representation used in print statements\n",
      " |      or str(my_blob).\n",
      " |  \n",
      " |  ends_with = endswith(self, suffix, start=0, end=9223372036854775807)\n",
      " |  \n",
      " |  endswith(self, suffix, start=0, end=9223372036854775807)\n",
      " |      Returns True if the blob ends with the given suffix.\n",
      " |  \n",
      " |  find(self, sub, start=0, end=9223372036854775807)\n",
      " |      Behaves like the built-in str.find() method. Returns an integer,\n",
      " |      the index of the first occurrence of the substring argument sub in the\n",
      " |      sub-string given by [start:end].\n",
      " |  \n",
      " |  format(self, *args, **kwargs)\n",
      " |      Perform a string formatting operation, like the built-in\n",
      " |      `str.format(*args, **kwargs)`. Returns a blob object.\n",
      " |  \n",
      " |  index(self, sub, start=0, end=9223372036854775807)\n",
      " |      Like blob.find() but raise ValueError when the substring\n",
      " |      is not found.\n",
      " |  \n",
      " |  join(self, iterable)\n",
      " |      Behaves like the built-in `str.join(iterable)` method, except\n",
      " |      returns a blob object.\n",
      " |      \n",
      " |      Returns a blob which is the concatenation of the strings or blobs\n",
      " |      in the iterable.\n",
      " |  \n",
      " |  lower(self)\n",
      " |      Like str.lower(), returns new object with all lower-cased characters.\n",
      " |  \n",
      " |  replace(self, old, new, count=9223372036854775807)\n",
      " |      Return a new blob object with all the occurence of `old` replaced\n",
      " |      by `new`.\n",
      " |  \n",
      " |  rfind(self, sub, start=0, end=9223372036854775807)\n",
      " |      Behaves like the built-in str.rfind() method. Returns an integer,\n",
      " |      the index of he last (right-most) occurence of the substring argument\n",
      " |      sub in the sub-sequence given by [start:end].\n",
      " |  \n",
      " |  rindex(self, sub, start=0, end=9223372036854775807)\n",
      " |      Like blob.rfind() but raise ValueError when substring is not\n",
      " |      found.\n",
      " |  \n",
      " |  starts_with = startswith(self, prefix, start=0, end=9223372036854775807)\n",
      " |  \n",
      " |  startswith(self, prefix, start=0, end=9223372036854775807)\n",
      " |      Returns True if the blob starts with the given prefix.\n",
      " |  \n",
      " |  strip(self, chars=None)\n",
      " |      Behaves like the built-in str.strip([chars]) method. Returns\n",
      " |      an object with leading and trailing whitespace removed.\n",
      " |  \n",
      " |  title(self)\n",
      " |      Returns a blob object with the text in title-case.\n",
      " |  \n",
      " |  upper(self)\n",
      " |      Like str.upper(), returns new object with all upper-cased characters.\n",
      " |  \n",
      " |  ----------------------------------------------------------------------\n",
      " |  Data descriptors inherited from textblob.mixins.StringlikeMixin:\n",
      " |  \n",
      " |  __dict__\n",
      " |      dictionary for instance variables (if defined)\n",
      " |  \n",
      " |  __weakref__\n",
      " |      list of weak references to the object (if defined)\n",
      " |  \n",
      " |  ----------------------------------------------------------------------\n",
      " |  Methods inherited from textblob.mixins.ComparableMixin:\n",
      " |  \n",
      " |  __eq__(self, other)\n",
      " |      Return self==value.\n",
      " |  \n",
      " |  __ge__(self, other)\n",
      " |      Return self>=value.\n",
      " |  \n",
      " |  __gt__(self, other)\n",
      " |      Return self>value.\n",
      " |  \n",
      " |  __le__(self, other)\n",
      " |      Return self<=value.\n",
      " |  \n",
      " |  __lt__(self, other)\n",
      " |      Return self<value.\n",
      " |  \n",
      " |  __ne__(self, other)\n",
      " |      Return self!=value.\n",
      "\n"
     ]
    }
   ],
   "source": [
    "help(TextBlob)"
   ]
  },
  {
   "cell_type": "code",
   "execution_count": 63,
   "id": "333a6875",
   "metadata": {
    "collapsed": true
   },
   "outputs": [
    {
     "name": "stdout",
     "output_type": "stream",
     "text": [
      "Defaulting to user installation because normal site-packages is not writeable\n",
      "Requirement already satisfied: langdetect in c:\\users\\emura\\appdata\\roaming\\python\\python311\\site-packages (1.0.9)\n",
      "Requirement already satisfied: six in c:\\programdata\\anaconda3\\lib\\site-packages (from langdetect) (1.16.0)\n",
      "Note: you may need to restart the kernel to use updated packages.\n"
     ]
    }
   ],
   "source": [
    "pip install langdetect"
   ]
  },
  {
   "cell_type": "code",
   "execution_count": 64,
   "id": "26b026a6",
   "metadata": {},
   "outputs": [],
   "source": [
    "from langdetect import detect"
   ]
  },
  {
   "cell_type": "code",
   "execution_count": 65,
   "id": "d368072c",
   "metadata": {},
   "outputs": [
    {
     "data": {
      "text/plain": [
       "'tr'"
      ]
     },
     "execution_count": 65,
     "metadata": {},
     "output_type": "execute_result"
    }
   ],
   "source": [
    "detect('Merhaba arkadaşlar')"
   ]
  },
  {
   "cell_type": "code",
   "execution_count": 66,
   "id": "19170728",
   "metadata": {},
   "outputs": [
    {
     "data": {
      "text/plain": [
       "'de'"
      ]
     },
     "execution_count": 66,
     "metadata": {},
     "output_type": "execute_result"
    }
   ],
   "source": [
    "detect('Ich bin ein Berliner')"
   ]
  },
  {
   "cell_type": "code",
   "execution_count": 67,
   "id": "4a9c6972",
   "metadata": {},
   "outputs": [
    {
     "data": {
      "text/plain": [
       "'Seni seviyorum'"
      ]
     },
     "execution_count": 67,
     "metadata": {},
     "output_type": "execute_result"
    }
   ],
   "source": [
    "from googletrans import Translator\n",
    "translator = Translator()\n",
    "text = \"I love you\"\n",
    "text = translator.translate(text, dest=\"tr\")\n",
    "text.text"
   ]
  },
  {
   "cell_type": "code",
   "execution_count": 68,
   "id": "d93f809f",
   "metadata": {},
   "outputs": [
    {
     "name": "stdout",
     "output_type": "stream",
     "text": [
      "Enter text:Merhaba ben Murat ALTUN.\n"
     ]
    },
    {
     "data": {
      "text/plain": [
       "\"Hello, I'm Murat Altun.\""
      ]
     },
     "execution_count": 68,
     "metadata": {},
     "output_type": "execute_result"
    }
   ],
   "source": [
    "text=input('Enter text:')\n",
    "text = translator.translate(text, dest=\"en\")\n",
    "text.text"
   ]
  },
  {
   "cell_type": "code",
   "execution_count": 69,
   "id": "b5eb862e",
   "metadata": {},
   "outputs": [],
   "source": [
    "from sklearn.feature_extraction.text import CountVectorizer,TfidfVectorizer"
   ]
  },
  {
   "cell_type": "code",
   "execution_count": 70,
   "id": "601f88b4",
   "metadata": {},
   "outputs": [],
   "source": [
    "uccumle=['call you tonight', 'Call me a cab','call me please call please']"
   ]
  },
  {
   "cell_type": "code",
   "execution_count": 74,
   "id": "e07435a6",
   "metadata": {},
   "outputs": [],
   "source": [
    "vect=CountVectorizer()"
   ]
  },
  {
   "cell_type": "code",
   "execution_count": 72,
   "id": "9af08381",
   "metadata": {},
   "outputs": [],
   "source": [
    "import pandas as pd"
   ]
  },
  {
   "cell_type": "code",
   "execution_count": 76,
   "id": "9e7bae8e",
   "metadata": {},
   "outputs": [],
   "source": [
    "tf=pd.DataFrame(vect.fit_transform(uccumle).toarray(),\n",
    "                columns=vect.get_feature_names_out())"
   ]
  },
  {
   "cell_type": "code",
   "execution_count": 77,
   "id": "b42f1f9e",
   "metadata": {},
   "outputs": [
    {
     "data": {
      "text/html": [
       "<div>\n",
       "<style scoped>\n",
       "    .dataframe tbody tr th:only-of-type {\n",
       "        vertical-align: middle;\n",
       "    }\n",
       "\n",
       "    .dataframe tbody tr th {\n",
       "        vertical-align: top;\n",
       "    }\n",
       "\n",
       "    .dataframe thead th {\n",
       "        text-align: right;\n",
       "    }\n",
       "</style>\n",
       "<table border=\"1\" class=\"dataframe\">\n",
       "  <thead>\n",
       "    <tr style=\"text-align: right;\">\n",
       "      <th></th>\n",
       "      <th>cab</th>\n",
       "      <th>call</th>\n",
       "      <th>me</th>\n",
       "      <th>please</th>\n",
       "      <th>tonight</th>\n",
       "      <th>you</th>\n",
       "    </tr>\n",
       "  </thead>\n",
       "  <tbody>\n",
       "    <tr>\n",
       "      <th>0</th>\n",
       "      <td>0</td>\n",
       "      <td>1</td>\n",
       "      <td>0</td>\n",
       "      <td>0</td>\n",
       "      <td>1</td>\n",
       "      <td>1</td>\n",
       "    </tr>\n",
       "    <tr>\n",
       "      <th>1</th>\n",
       "      <td>1</td>\n",
       "      <td>1</td>\n",
       "      <td>1</td>\n",
       "      <td>0</td>\n",
       "      <td>0</td>\n",
       "      <td>0</td>\n",
       "    </tr>\n",
       "    <tr>\n",
       "      <th>2</th>\n",
       "      <td>0</td>\n",
       "      <td>2</td>\n",
       "      <td>1</td>\n",
       "      <td>2</td>\n",
       "      <td>0</td>\n",
       "      <td>0</td>\n",
       "    </tr>\n",
       "  </tbody>\n",
       "</table>\n",
       "</div>"
      ],
      "text/plain": [
       "   cab  call  me  please  tonight  you\n",
       "0    0     1   0       0        1    1\n",
       "1    1     1   1       0        0    0\n",
       "2    0     2   1       2        0    0"
      ]
     },
     "execution_count": 77,
     "metadata": {},
     "output_type": "execute_result"
    }
   ],
   "source": [
    "tf #kelimelerin cümlelerde geçme sayısını verir"
   ]
  },
  {
   "cell_type": "code",
   "execution_count": 78,
   "id": "2526e5cd",
   "metadata": {},
   "outputs": [
    {
     "data": {
      "text/plain": [
       "array([1, 4, 2, 2, 1, 1], dtype=int64)"
      ]
     },
     "execution_count": 78,
     "metadata": {},
     "output_type": "execute_result"
    }
   ],
   "source": [
    "df=vect.transform(uccumle).toarray().sum(axis=0) # sütunların toplamını verir\n",
    "df"
   ]
  },
  {
   "cell_type": "code",
   "execution_count": 79,
   "id": "79db6d61",
   "metadata": {},
   "outputs": [
    {
     "data": {
      "text/html": [
       "<div>\n",
       "<style scoped>\n",
       "    .dataframe tbody tr th:only-of-type {\n",
       "        vertical-align: middle;\n",
       "    }\n",
       "\n",
       "    .dataframe tbody tr th {\n",
       "        vertical-align: top;\n",
       "    }\n",
       "\n",
       "    .dataframe thead th {\n",
       "        text-align: right;\n",
       "    }\n",
       "</style>\n",
       "<table border=\"1\" class=\"dataframe\">\n",
       "  <thead>\n",
       "    <tr style=\"text-align: right;\">\n",
       "      <th></th>\n",
       "      <th>cab</th>\n",
       "      <th>call</th>\n",
       "      <th>me</th>\n",
       "      <th>please</th>\n",
       "      <th>tonight</th>\n",
       "      <th>you</th>\n",
       "    </tr>\n",
       "  </thead>\n",
       "  <tbody>\n",
       "    <tr>\n",
       "      <th>0</th>\n",
       "      <td>0.0</td>\n",
       "      <td>0.25</td>\n",
       "      <td>0.0</td>\n",
       "      <td>0.0</td>\n",
       "      <td>1.0</td>\n",
       "      <td>1.0</td>\n",
       "    </tr>\n",
       "    <tr>\n",
       "      <th>1</th>\n",
       "      <td>1.0</td>\n",
       "      <td>0.25</td>\n",
       "      <td>0.5</td>\n",
       "      <td>0.0</td>\n",
       "      <td>0.0</td>\n",
       "      <td>0.0</td>\n",
       "    </tr>\n",
       "    <tr>\n",
       "      <th>2</th>\n",
       "      <td>0.0</td>\n",
       "      <td>0.50</td>\n",
       "      <td>0.5</td>\n",
       "      <td>1.0</td>\n",
       "      <td>0.0</td>\n",
       "      <td>0.0</td>\n",
       "    </tr>\n",
       "  </tbody>\n",
       "</table>\n",
       "</div>"
      ],
      "text/plain": [
       "   cab  call   me  please  tonight  you\n",
       "0  0.0  0.25  0.0     0.0      1.0  1.0\n",
       "1  1.0  0.25  0.5     0.0      0.0  0.0\n",
       "2  0.0  0.50  0.5     1.0      0.0  0.0"
      ]
     },
     "execution_count": 79,
     "metadata": {},
     "output_type": "execute_result"
    }
   ],
   "source": [
    "tf/df # oransal oalrak cümlelere dağılımını verir"
   ]
  },
  {
   "cell_type": "code",
   "execution_count": null,
   "id": "a4cf10aa",
   "metadata": {},
   "outputs": [],
   "source": []
  }
 ],
 "metadata": {
  "kernelspec": {
   "display_name": "Python 3 (ipykernel)",
   "language": "python",
   "name": "python3"
  },
  "language_info": {
   "codemirror_mode": {
    "name": "ipython",
    "version": 3
   },
   "file_extension": ".py",
   "mimetype": "text/x-python",
   "name": "python",
   "nbconvert_exporter": "python",
   "pygments_lexer": "ipython3",
   "version": "3.11.5"
  }
 },
 "nbformat": 4,
 "nbformat_minor": 5
}
